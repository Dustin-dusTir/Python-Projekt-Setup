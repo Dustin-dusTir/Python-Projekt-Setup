{
 "metadata": {
  "language_info": {
   "codemirror_mode": {
    "name": "ipython",
    "version": 3
   },
   "file_extension": ".py",
   "mimetype": "text/x-python",
   "name": "python",
   "nbconvert_exporter": "python",
   "pygments_lexer": "ipython3",
   "version": "3.9.7"
  },
  "orig_nbformat": 2,
  "kernelspec": {
   "name": "python3",
   "display_name": "Python 3.9.7 64-bit ('venv': venv)"
  },
  "interpreter": {
   "hash": "3250b338f632602da02c75b68cfd893c3b7a9f45fb2a522b9a85a16e31becb7a"
  }
 },
 "nbformat": 4,
 "nbformat_minor": 2,
 "cells": [
  {
   "cell_type": "markdown",
   "source": [
    "### This interactive python notebook will teach you some helpfull things about python and networking"
   ],
   "metadata": {}
  },
  {
   "cell_type": "markdown",
   "source": [
    "With the ipconfig command you can find important stuff like your subnetmask (on windows)  \r\n",
    "(it should work in this notebook by putting an ! in front)"
   ],
   "metadata": {}
  },
  {
   "cell_type": "code",
   "execution_count": 89,
   "source": [
    "! ipconfig"
   ],
   "outputs": [
    {
     "output_type": "stream",
     "name": "stdout",
     "text": [
      "\n",
      "Windows-IP-Konfiguration\n",
      "\n",
      "\n",
      "Ethernet-Adapter Ethernet:\n",
      "\n",
      "   Medienstatus. . . . . . . . . . . : Medium getrennt\n",
      "   Verbindungsspezifisches DNS-Suffix: \n",
      "\n",
      "Drahtlos-LAN-Adapter LAN-Verbindung* 3:\n",
      "\n",
      "   Medienstatus. . . . . . . . . . . : Medium getrennt\n",
      "   Verbindungsspezifisches DNS-Suffix: \n",
      "\n",
      "Drahtlos-LAN-Adapter LAN-Verbindung* 15:\n",
      "\n",
      "   Medienstatus. . . . . . . . . . . : Medium getrennt\n",
      "   Verbindungsspezifisches DNS-Suffix: \n",
      "\n",
      "Drahtlos-LAN-Adapter WLAN 3:\n",
      "\n",
      "   Verbindungsspezifisches DNS-Suffix: fritz.box\n",
      "   IPv6-Adresse. . . . . . . . . . . : 2002:6dc0:f027:0:d9bb:7e2e:662a:4e4d\n",
      "   Tempor�re IPv6-Adresse. . . . . . : 2002:6dc0:f027:0:1490:232b:2f75:1df0\n",
      "   Verbindungslokale IPv6-Adresse  . : fe80::d9bb:7e2e:662a:4e4d%17\n",
      "   IPv4-Adresse  . . . . . . . . . . : 192.168.178.80\n",
      "   Subnetzmaske  . . . . . . . . . . : 255.255.255.0\n",
      "   Standardgateway . . . . . . . . . : fe80::de15:c8ff:feed:a073%17\n",
      "                                       192.168.178.1\n"
     ]
    }
   ],
   "metadata": {}
  },
  {
   "cell_type": "code",
   "execution_count": 90,
   "source": [
    "# This is the IP of this computer ( inside your home network)\r\n",
    "socket.gethostbyname(socket.gethostname())"
   ],
   "outputs": [
    {
     "output_type": "execute_result",
     "data": {
      "text/plain": [
       "'192.168.178.80'"
      ]
     },
     "metadata": {},
     "execution_count": 90
    }
   ],
   "metadata": {}
  },
  {
   "cell_type": "code",
   "execution_count": 91,
   "source": [
    "# dynamically get the important IP Adresses you need\r\n",
    "# you may have to change the MASK\r\n",
    "import socket\r\n",
    "import ipaddress\r\n",
    "\r\n",
    "\r\n",
    "IP = socket.gethostbyname(socket.gethostname())\r\n",
    "MASK = '255.255.255.0'\r\n",
    "\r\n",
    "host = ipaddress.IPv4Address(IP)\r\n",
    "net = ipaddress.IPv4Network(IP + '/' + MASK, False)\r\n",
    "print('IP:', IP)\r\n",
    "print('Mask:', MASK)\r\n",
    "print('Subnet:', ipaddress.IPv4Address(int(host) & int(net.netmask)))\r\n",
    "print('Broadcast:', net.broadcast_address.exploded)"
   ],
   "outputs": [
    {
     "output_type": "stream",
     "name": "stdout",
     "text": [
      "IP: 192.168.178.80\n",
      "Mask: 255.255.255.0\n",
      "Subnet: 192.168.178.0\n",
      "Broadcast: 192.168.178.255\n"
     ]
    }
   ],
   "metadata": {}
  },
  {
   "cell_type": "code",
   "execution_count": 92,
   "source": [
    "message = \"Text oder 😎\"\r\n",
    "messageBytes = message.encode()\r\n",
    "messageBytes"
   ],
   "outputs": [
    {
     "output_type": "execute_result",
     "data": {
      "text/plain": [
       "b'Text oder \\xf0\\x9f\\x98\\x8e'"
      ]
     },
     "metadata": {},
     "execution_count": 92
    }
   ],
   "metadata": {}
  },
  {
   "cell_type": "code",
   "execution_count": 93,
   "source": [
    "messageBytes.decode('UTF8')"
   ],
   "outputs": [
    {
     "output_type": "execute_result",
     "data": {
      "text/plain": [
       "'Text oder 😎'"
      ]
     },
     "metadata": {},
     "execution_count": 93
    }
   ],
   "metadata": {}
  },
  {
   "cell_type": "markdown",
   "source": [
    "### listen unicast "
   ],
   "metadata": {}
  },
  {
   "cell_type": "code",
   "execution_count": 94,
   "source": [
    "# Unicast Listener\r\n",
    "! start powershell python ./../../sampleCode/simpleserver.py"
   ],
   "outputs": [],
   "metadata": {}
  },
  {
   "cell_type": "markdown",
   "source": [
    "### send unicast"
   ],
   "metadata": {}
  },
  {
   "cell_type": "code",
   "execution_count": 95,
   "source": [
    "# simple client\r\n",
    "! start powershell python ./../../sampleCode/simpleclient.py"
   ],
   "outputs": [],
   "metadata": {}
  },
  {
   "cell_type": "markdown",
   "source": [
    "### Listen for Broadcasts"
   ],
   "metadata": {}
  },
  {
   "cell_type": "code",
   "execution_count": 96,
   "source": [
    "! start powershell python ./../../sampleCode/broadcastlistener.py"
   ],
   "outputs": [],
   "metadata": {}
  },
  {
   "cell_type": "markdown",
   "source": [
    "### Send Broadcast"
   ],
   "metadata": {}
  },
  {
   "cell_type": "code",
   "execution_count": 97,
   "source": [
    "! start powershell python ./../../sampleCode/broadcastsender.py"
   ],
   "outputs": [],
   "metadata": {}
  }
 ]
}