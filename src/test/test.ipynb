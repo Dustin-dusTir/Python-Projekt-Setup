{
 "cells": [
  {
   "cell_type": "markdown",
   "metadata": {},
   "source": [
    "### This interactive python notebook will teach you some helpfull things about python and networking"
   ]
  },
  {
   "cell_type": "markdown",
   "metadata": {},
   "source": [
    "With the ipconfig command you can find important stuff like your subnetmask (on windows)  \n",
    "(it should work in this notebook by putting an ! in front)"
   ]
  },
  {
   "cell_type": "markdown",
   "metadata": {},
   "source": [
    "## networking IP Adresses"
   ]
  },
  {
   "cell_type": "code",
   "execution_count": 9,
   "metadata": {},
   "outputs": [
    {
     "name": "stdout",
     "output_type": "stream",
     "text": [
      "\n",
      "Windows-IP-Konfiguration\n",
      "\n",
      "\n",
      "Ethernet-Adapter Ethernet:\n",
      "\n",
      "   Medienstatus. . . . . . . . . . . : Medium getrennt\n",
      "   Verbindungsspezifisches DNS-Suffix: \n",
      "\n",
      "Unbekannter Adapter ProtonVPN TUN:\n",
      "\n",
      "   Medienstatus. . . . . . . . . . . : Medium getrennt\n",
      "   Verbindungsspezifisches DNS-Suffix: \n",
      "\n",
      "Unbekannter Adapter LAN-Verbindung:\n",
      "\n",
      "   Medienstatus. . . . . . . . . . . : Medium getrennt\n",
      "   Verbindungsspezifisches DNS-Suffix: \n",
      "\n",
      "Drahtlos-LAN-Adapter LAN-Verbindung* 3:\n",
      "\n",
      "   Medienstatus. . . . . . . . . . . : Medium getrennt\n",
      "   Verbindungsspezifisches DNS-Suffix: \n",
      "\n",
      "Drahtlos-LAN-Adapter LAN-Verbindung* 15:\n",
      "\n",
      "   Medienstatus. . . . . . . . . . . : Medium getrennt\n",
      "   Verbindungsspezifisches DNS-Suffix: \n",
      "\n",
      "Drahtlos-LAN-Adapter WLAN 3:\n",
      "\n",
      "   Verbindungsspezifisches DNS-Suffix: fritz.box\n",
      "   IPv4-Adresse  . . . . . . . . . . : 192.168.178.80\n",
      "   Subnetzmaske  . . . . . . . . . . : 255.255.255.0\n",
      "   Standardgateway . . . . . . . . . : 192.168.178.1\n",
      "\n",
      "Ethernet-Adapter vEthernet (WSL):\n",
      "\n",
      "   Verbindungsspezifisches DNS-Suffix: \n",
      "   Verbindungslokale IPv6-Adresse  . : fe80::d3f:f22f:2d9f:26b%77\n",
      "   IPv4-Adresse  . . . . . . . . . . : 172.24.224.1\n",
      "   Subnetzmaske  . . . . . . . . . . : 255.255.240.0\n",
      "   Standardgateway . . . . . . . . . : \n"
     ]
    }
   ],
   "source": [
    "# you can use a python notebook as a terminal window and type in system commands using the \"!\"\n",
    "! ipconfig"
   ]
  },
  {
   "cell_type": "code",
   "execution_count": 2,
   "metadata": {},
   "outputs": [
    {
     "data": {
      "text/plain": [
       "'192.168.178.80'"
      ]
     },
     "execution_count": 2,
     "metadata": {},
     "output_type": "execute_result"
    }
   ],
   "source": [
    "import socket\n",
    "# This is the IP of this computer ( inside your home network)\n",
    "socket.gethostbyname(socket.gethostname())"
   ]
  },
  {
   "cell_type": "markdown",
   "metadata": {},
   "source": [
    "### Broadcast Address\n",
    "The Brodcast Address depends on your local Network.    \n",
    "The Broadcast IP Address can be calculated by your local IP adress and the Subnet Mask  \n",
    "https://www.calculator.net/ip-subnet-calculator.html"
   ]
  },
  {
   "cell_type": "code",
   "execution_count": 7,
   "metadata": {},
   "outputs": [
    {
     "name": "stdout",
     "output_type": "stream",
     "text": [
      "IP: 192.168.178.80\n",
      "Mask: 255.255.255.0\n",
      "Subnet: 192.168.178.0\n",
      "Broadcast: 192.168.178.255\n"
     ]
    }
   ],
   "source": [
    "# dynamically get the important IP Adresses you need\n",
    "# you may have to change the MASK\n",
    "import socket\n",
    "import ipaddress\n",
    "\n",
    "\n",
    "MY_LOCAL_IP = socket.gethostbyname(socket.gethostname())\n",
    "MASK = '255.255.255.0'\n",
    "\n",
    "host = ipaddress.IPv4Address(MY_LOCAL_IP)\n",
    "net = ipaddress.IPv4Network(MY_LOCAL_IP + '/' + MASK, False)\n",
    "LOCAL_Broadcast_IP_Address = net.broadcast_address.exploded\n",
    "print('IP:', MY_LOCAL_IP)\n",
    "print('Mask:', MASK)\n",
    "print('Subnet:', ipaddress.IPv4Address(int(host) & int(net.netmask)))\n",
    "print('Broadcast:', LOCAL_Broadcast_IP_Address)"
   ]
  },
  {
   "cell_type": "markdown",
   "metadata": {},
   "source": [
    "## sending messages Basics"
   ]
  },
  {
   "cell_type": "markdown",
   "metadata": {},
   "source": [
    "### String Encoding\n",
    "you can not send strings over the network, you can only send bytes!"
   ]
  },
  {
   "cell_type": "code",
   "execution_count": 8,
   "metadata": {},
   "outputs": [
    {
     "data": {
      "text/plain": [
       "b'Text oder \\xf0\\x9f\\x98\\x8e'"
      ]
     },
     "execution_count": 8,
     "metadata": {},
     "output_type": "execute_result"
    }
   ],
   "source": [
    "message = \"Text oder 😎\"\n",
    "messageBytes = message.encode()\n",
    "messageBytes"
   ]
  },
  {
   "cell_type": "code",
   "execution_count": 93,
   "metadata": {},
   "outputs": [
    {
     "data": {
      "text/plain": [
       "'Text oder 😎'"
      ]
     },
     "execution_count": 93,
     "metadata": {},
     "output_type": "execute_result"
    }
   ],
   "source": [
    "messageBytes.decode('UTF8')"
   ]
  },
  {
   "cell_type": "markdown",
   "metadata": {},
   "source": [
    "### listen unicast "
   ]
  },
  {
   "cell_type": "code",
   "execution_count": 22,
   "metadata": {},
   "outputs": [],
   "source": [
    "# Unicast Listener\n",
    "! start powershell python ./../../sampleCode/simpleserver.py"
   ]
  },
  {
   "cell_type": "markdown",
   "metadata": {},
   "source": [
    "### send unicast"
   ]
  },
  {
   "cell_type": "code",
   "execution_count": 24,
   "metadata": {},
   "outputs": [],
   "source": [
    "# simple client\n",
    "! start powershell python ./../../sampleCode/simpleclient.py"
   ]
  },
  {
   "cell_type": "markdown",
   "metadata": {},
   "source": [
    "### Listen for Broadcasts"
   ]
  },
  {
   "cell_type": "code",
   "execution_count": 96,
   "metadata": {},
   "outputs": [],
   "source": [
    "! start powershell python ./../../sampleCode/broadcastlistener.py"
   ]
  },
  {
   "cell_type": "markdown",
   "metadata": {},
   "source": [
    "### Send Broadcast"
   ]
  },
  {
   "cell_type": "code",
   "execution_count": 97,
   "metadata": {},
   "outputs": [],
   "source": [
    "! start powershell python ./../../sampleCode/broadcastsender.py"
   ]
  }
 ],
 "metadata": {
  "interpreter": {
   "hash": "3250b338f632602da02c75b68cfd893c3b7a9f45fb2a522b9a85a16e31becb7a"
  },
  "kernelspec": {
   "display_name": "Python 3.9.7 64-bit ('venv': venv)",
   "name": "python3"
  },
  "language_info": {
   "codemirror_mode": {
    "name": "ipython",
    "version": 3
   },
   "file_extension": ".py",
   "mimetype": "text/x-python",
   "name": "python",
   "nbconvert_exporter": "python",
   "pygments_lexer": "ipython3",
   "version": "3.9.7"
  },
  "orig_nbformat": 2
 },
 "nbformat": 4,
 "nbformat_minor": 2
}
